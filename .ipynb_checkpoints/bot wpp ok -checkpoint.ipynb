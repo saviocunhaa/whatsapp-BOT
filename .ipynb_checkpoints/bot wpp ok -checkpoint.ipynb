{
 "cells": [
  {
   "cell_type": "code",
   "execution_count": 2,
   "id": "43fb3f73",
   "metadata": {},
   "outputs": [
    {
     "data": {
      "text/html": [
       "<div>\n",
       "<style scoped>\n",
       "    .dataframe tbody tr th:only-of-type {\n",
       "        vertical-align: middle;\n",
       "    }\n",
       "\n",
       "    .dataframe tbody tr th {\n",
       "        vertical-align: top;\n",
       "    }\n",
       "\n",
       "    .dataframe thead th {\n",
       "        text-align: right;\n",
       "    }\n",
       "</style>\n",
       "<table border=\"1\" class=\"dataframe\">\n",
       "  <thead>\n",
       "    <tr style=\"text-align: right;\">\n",
       "      <th></th>\n",
       "      <th>contato</th>\n",
       "      <th>msg</th>\n",
       "    </tr>\n",
       "  </thead>\n",
       "  <tbody>\n",
       "    <tr>\n",
       "      <th>0</th>\n",
       "      <td>5588996165892</td>\n",
       "      <td>teste</td>\n",
       "    </tr>\n",
       "    <tr>\n",
       "      <th>1</th>\n",
       "      <td>5588996409102</td>\n",
       "      <td>teste 2  https://www.youtube.com/watch?v=wrxrp...</td>\n",
       "    </tr>\n",
       "  </tbody>\n",
       "</table>\n",
       "</div>"
      ],
      "text/plain": [
       "         contato                                                msg\n",
       "0  5588996165892                                              teste\n",
       "1  5588996409102  teste 2  https://www.youtube.com/watch?v=wrxrp..."
      ]
     },
     "metadata": {},
     "output_type": "display_data"
    }
   ],
   "source": [
    "#bot digitação + planilha python \n",
    "\n",
    "#utilize o modelo da planilha para gerar sue numero de teleone, adicionei o meu contato como teste \n",
    "# instalar todas as bibliotecas utilizadas nos imports antes de axecultar o código. \n",
    "\n",
    "#PODE UTILIZAR O JUPYTER PARA EXECULTAR O CODIGO. \n",
    "\n",
    "import pandas as pd\n",
    "\n",
    "contatos_df = pd.read_excel(\"lista_oficial.xlsx\")\n",
    "\n",
    "display(contatos_df)"
   ]
  },
  {
   "cell_type": "code",
   "execution_count": null,
   "id": "a8304f97",
   "metadata": {},
   "outputs": [],
   "source": [
    "from selenium import webdriver\n",
    "from selenium.webdriver.common.keys import Keys\n",
    "from selenium.webdriver.common.by import By\n",
    "import time\n",
    "import pyautogui\n",
    "import urllib\n",
    "import pyperclip\n",
    "import random\n",
    "\n",
    "tempo = [35,40,45,50,55,60,70]\n",
    "tempo_randomico = random.choice(tempo)\n",
    "time.sleep(5)\n",
    "\n",
    "for i, mensagem in enumerate(contatos_df['msg']):\n",
    "    pyautogui.hotkey('ctrl','t')\n",
    "    time.sleep(5)\n",
    "    numero = contatos_df.loc[i, \"contato\"]\n",
    "    texto = urllib.parse.quote(f\"{mensagem}\")\n",
    "    link = f\"https://web.whatsapp.com/send?phone={numero}&text={texto}\"\n",
    "    pyperclip.copy(link) \n",
    "    pyautogui.hotkey(\"ctrl\", \"v\")\n",
    "    time.sleep(5)\n",
    "    pyautogui.press('enter')\n",
    "    time.sleep(tempo_randomico)\n",
    "    pyautogui.press('enter')\n",
    "    time.sleep(tempo_randomico)\n",
    "    pyautogui.hotkey(\"ctrl\", \"w\")\n",
    "    time.sleep(5)\n",
    "    print(contatos_df['contato'])\n",
    "\n"
   ]
  }
 ],
 "metadata": {
  "kernelspec": {
   "display_name": "Python 3 (ipykernel)",
   "language": "python",
   "name": "python3"
  },
  "language_info": {
   "codemirror_mode": {
    "name": "ipython",
    "version": 3
   },
   "file_extension": ".py",
   "mimetype": "text/x-python",
   "name": "python",
   "nbconvert_exporter": "python",
   "pygments_lexer": "ipython3",
   "version": "3.9.12"
  }
 },
 "nbformat": 4,
 "nbformat_minor": 5
}
